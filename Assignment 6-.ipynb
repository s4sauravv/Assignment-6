{
 "cells": [
  {
   "cell_type": "code",
   "execution_count": 6,
   "id": "bedd83ee",
   "metadata": {},
   "outputs": [],
   "source": [
    "#Assignment 6"
   ]
  },
  {
   "cell_type": "code",
   "execution_count": 1,
   "id": "89041ac6",
   "metadata": {},
   "outputs": [],
   "source": [
    "#    Class\n",
    "#    #Class\n",
    "#    \n",
    "#    class Complex:\n",
    "#    \n",
    "#    ... def __init__(self, realpart, imagpart):\n",
    "#    \n",
    "#    ... self.r = realpart\n",
    "#    \n",
    "#    ... self.i = imagpart\n",
    "#    \n",
    "#    ...\n",
    "#    \n",
    "#    x = Complex(3.0, -4.5)\n",
    "#    \n",
    "#    x.r\n",
    "#    \n",
    "#    x.i"
   ]
  },
  {
   "cell_type": "code",
   "execution_count": 2,
   "id": "328c6a3a",
   "metadata": {},
   "outputs": [],
   "source": [
    "class Complex:\n",
    "    def __init__ (self,realpart,imaginarypart):\n",
    "        self.realpart=realpart\n",
    "        self.imaginarypart=imaginarypart\n",
    "        \n",
    "    "
   ]
  },
  {
   "cell_type": "code",
   "execution_count": 3,
   "id": "3b212ed3",
   "metadata": {},
   "outputs": [],
   "source": [
    "j=Complex(3.0,-4.5)"
   ]
  },
  {
   "cell_type": "code",
   "execution_count": 4,
   "id": "9d159423",
   "metadata": {},
   "outputs": [
    {
     "data": {
      "text/plain": [
       "3.0"
      ]
     },
     "execution_count": 4,
     "metadata": {},
     "output_type": "execute_result"
    }
   ],
   "source": [
    "j.realpart"
   ]
  },
  {
   "cell_type": "code",
   "execution_count": 5,
   "id": "42299102",
   "metadata": {},
   "outputs": [
    {
     "data": {
      "text/plain": [
       "-4.5"
      ]
     },
     "execution_count": 5,
     "metadata": {},
     "output_type": "execute_result"
    }
   ],
   "source": [
    "j.imaginarypart"
   ]
  },
  {
   "cell_type": "code",
   "execution_count": 6,
   "id": "b9bf237b",
   "metadata": {},
   "outputs": [],
   "source": [
    "#    class Lion:\n",
    "#    kind = 'canine' # global class variable shared by all instances\n",
    "#    def __init__(self, name):\n",
    "#     self.name = name # instance variable unique to each instance\n",
    "#    d = Lion('Fido')\n",
    "#    e = Lion('Buddy')\n",
    "#    d.kind # shared by all lion\n",
    "#    e.kind # shared by all lion  \n",
    "#  d.name # unique to d\n",
    "#  e.name"
   ]
  },
  {
   "cell_type": "code",
   "execution_count": 7,
   "id": "b346c0cb",
   "metadata": {},
   "outputs": [],
   "source": [
    "class Lion:\n",
    "    kind=\"canin\"\n",
    "    def __init__ (self,name):\n",
    "        self.name=name\n",
    "    "
   ]
  },
  {
   "cell_type": "code",
   "execution_count": 11,
   "id": "4d44b5e3",
   "metadata": {},
   "outputs": [],
   "source": [
    "d=Lion(\"Fido\")"
   ]
  },
  {
   "cell_type": "code",
   "execution_count": 12,
   "id": "c0aab09b",
   "metadata": {},
   "outputs": [],
   "source": [
    "e=Lion(\"Yummy\")"
   ]
  },
  {
   "cell_type": "code",
   "execution_count": 13,
   "id": "570b7247",
   "metadata": {},
   "outputs": [
    {
     "data": {
      "text/plain": [
       "'Yummy'"
      ]
     },
     "execution_count": 13,
     "metadata": {},
     "output_type": "execute_result"
    }
   ],
   "source": [
    "e.name"
   ]
  },
  {
   "cell_type": "code",
   "execution_count": 14,
   "id": "84d92382",
   "metadata": {},
   "outputs": [
    {
     "data": {
      "text/plain": [
       "'Fido'"
      ]
     },
     "execution_count": 14,
     "metadata": {},
     "output_type": "execute_result"
    }
   ],
   "source": [
    "d.name"
   ]
  },
  {
   "cell_type": "code",
   "execution_count": 15,
   "id": "115fd017",
   "metadata": {},
   "outputs": [
    {
     "data": {
      "text/plain": [
       "'canin'"
      ]
     },
     "execution_count": 15,
     "metadata": {},
     "output_type": "execute_result"
    }
   ],
   "source": [
    "e.kind"
   ]
  },
  {
   "cell_type": "code",
   "execution_count": 16,
   "id": "68387f45",
   "metadata": {},
   "outputs": [
    {
     "data": {
      "text/plain": [
       "'canin'"
      ]
     },
     "execution_count": 16,
     "metadata": {},
     "output_type": "execute_result"
    }
   ],
   "source": [
    "d.kind"
   ]
  },
  {
   "cell_type": "code",
   "execution_count": 17,
   "id": "5b60ba6c",
   "metadata": {},
   "outputs": [],
   "source": [
    "#    class Pet:\n",
    "#    def __init__(self, name):\n",
    "#    self.name = name\n",
    "#    self.tricks = [] # creates a new empty list for each dog\n",
    "#    def add_trick(self, trick):\n",
    "#    self.tricks.append(trick)\n",
    "#    d = Pet('Fido')\n",
    "#    e = Pet('Buddy')\n",
    "#    d.add_trick('roll over')\n",
    "#    e.add_trick('play dead')\n",
    "#    d.tricks  \n",
    "#    e.tricks"
   ]
  },
  {
   "cell_type": "code",
   "execution_count": 20,
   "id": "0ad35e8b",
   "metadata": {},
   "outputs": [],
   "source": [
    "class Pet:\n",
    "    def __init__(self,name):\n",
    "        self.name=name\n",
    "        self.tricks=[]\n",
    "    def add_trick(self,trick):\n",
    "        self.tricks.append(trick)"
   ]
  },
  {
   "cell_type": "code",
   "execution_count": 21,
   "id": "4cb72972",
   "metadata": {},
   "outputs": [],
   "source": [
    "c=Pet(\"Dog\")"
   ]
  },
  {
   "cell_type": "code",
   "execution_count": 27,
   "id": "1e061069",
   "metadata": {},
   "outputs": [],
   "source": [
    "c.add_trick(\"vicky\")"
   ]
  },
  {
   "cell_type": "code",
   "execution_count": 28,
   "id": "762cf1c2",
   "metadata": {},
   "outputs": [
    {
     "data": {
      "text/plain": [
       "['dog', 'vicky']"
      ]
     },
     "execution_count": 28,
     "metadata": {},
     "output_type": "execute_result"
    }
   ],
   "source": [
    "c.tricks"
   ]
  },
  {
   "cell_type": "code",
   "execution_count": 29,
   "id": "413828b8",
   "metadata": {},
   "outputs": [],
   "source": [
    "d=Pet(\"Monkey\")"
   ]
  },
  {
   "cell_type": "code",
   "execution_count": 30,
   "id": "88de5cc4",
   "metadata": {},
   "outputs": [
    {
     "data": {
      "text/plain": [
       "'Monkey'"
      ]
     },
     "execution_count": 30,
     "metadata": {},
     "output_type": "execute_result"
    }
   ],
   "source": [
    "d.name"
   ]
  },
  {
   "cell_type": "code",
   "execution_count": 31,
   "id": "771201ba",
   "metadata": {},
   "outputs": [],
   "source": [
    "d.add_trick(\"Ramesh\")"
   ]
  },
  {
   "cell_type": "code",
   "execution_count": 33,
   "id": "491873a4",
   "metadata": {},
   "outputs": [
    {
     "data": {
      "text/plain": [
       "['Ramesh']"
      ]
     },
     "execution_count": 33,
     "metadata": {},
     "output_type": "execute_result"
    }
   ],
   "source": [
    "d.tricks"
   ]
  },
  {
   "cell_type": "code",
   "execution_count": 34,
   "id": "5abd403a",
   "metadata": {},
   "outputs": [
    {
     "data": {
      "text/plain": [
       "['dog', 'vicky']"
      ]
     },
     "execution_count": 34,
     "metadata": {},
     "output_type": "execute_result"
    }
   ],
   "source": [
    "c.tricks"
   ]
  },
  {
   "cell_type": "code",
   "execution_count": 36,
   "id": "5b2d45fc",
   "metadata": {},
   "outputs": [],
   "source": [
    "d.add_trick(\"SOMU\")"
   ]
  },
  {
   "cell_type": "code",
   "execution_count": 38,
   "id": "9232584f",
   "metadata": {},
   "outputs": [
    {
     "data": {
      "text/plain": [
       "['Ramesh', 'SOMU']"
      ]
     },
     "execution_count": 38,
     "metadata": {},
     "output_type": "execute_result"
    }
   ],
   "source": [
    "d.tricks"
   ]
  },
  {
   "cell_type": "code",
   "execution_count": 39,
   "id": "f45030a5",
   "metadata": {},
   "outputs": [],
   "source": [
    "#    # In class Methods may call other methods by using method attributes of the self argument:\n",
    "#    class Bag:\n",
    "#     def __init__(self):\n",
    "#      self.data = []\n",
    "#     def add(self, x):\n",
    "#      self.data.append(x)\n",
    "#     def addtwice(self, x):\n",
    "#     self.add(x)\n",
    "#     self.add(x)\n",
    "#    bg=Bag()  \n",
    "#    bg.addtwice('Cricket')"
   ]
  },
  {
   "cell_type": "code",
   "execution_count": 71,
   "id": "a5b89027",
   "metadata": {},
   "outputs": [],
   "source": [
    "class Bag:\n",
    "    def __init__ (self):\n",
    "        self.data=[]\n",
    "    def add(self,x):\n",
    "        self.data.append(x)\n",
    "    def add_twice(self,x):\n",
    "        self.add(x)\n",
    "        self.add(x)"
   ]
  },
  {
   "cell_type": "code",
   "execution_count": 73,
   "id": "0206a237",
   "metadata": {},
   "outputs": [],
   "source": [
    "b=Bag()"
   ]
  },
  {
   "cell_type": "code",
   "execution_count": 74,
   "id": "96ee2a33",
   "metadata": {},
   "outputs": [],
   "source": [
    "b.add(\"cricket\")"
   ]
  },
  {
   "cell_type": "code",
   "execution_count": 75,
   "id": "58ec9fc4",
   "metadata": {},
   "outputs": [
    {
     "data": {
      "text/plain": [
       "['cricket']"
      ]
     },
     "execution_count": 75,
     "metadata": {},
     "output_type": "execute_result"
    }
   ],
   "source": [
    "b.data"
   ]
  },
  {
   "cell_type": "code",
   "execution_count": 77,
   "id": "306c4617",
   "metadata": {},
   "outputs": [],
   "source": [
    "b.add_twice(\"Footbaall\")"
   ]
  },
  {
   "cell_type": "code",
   "execution_count": 79,
   "id": "ad962104",
   "metadata": {},
   "outputs": [
    {
     "data": {
      "text/plain": [
       "['cricket', 'cricket', 'cricket', 'Footbaall', 'Footbaall']"
      ]
     },
     "execution_count": 79,
     "metadata": {},
     "output_type": "execute_result"
    }
   ],
   "source": [
    "b.data"
   ]
  },
  {
   "cell_type": "code",
   "execution_count": 80,
   "id": "3be8ac40",
   "metadata": {},
   "outputs": [],
   "source": [
    "#    File input/output operations\n",
    "#    \n",
    "#    f = open('workfile.txt', 'w') # make workfile and write any content inside it\n",
    "#    \n",
    "#    with open('workfile.txt') as f:\n",
    "#    \n",
    "#    ... read_data = f.read()\n"
   ]
  },
  {
   "cell_type": "code",
   "execution_count": 86,
   "id": "6351d26a",
   "metadata": {},
   "outputs": [],
   "source": [
    "with open('saurav.txt') as f:\n",
    "    read_data=f.read()"
   ]
  },
  {
   "cell_type": "code",
   "execution_count": 87,
   "id": "5405ff24",
   "metadata": {},
   "outputs": [
    {
     "data": {
      "text/plain": [
       "'Saurav is ex mining engineerSaurav is ex mining engineer'"
      ]
     },
     "execution_count": 87,
     "metadata": {},
     "output_type": "execute_result"
    }
   ],
   "source": [
    "read_data"
   ]
  },
  {
   "cell_type": "code",
   "execution_count": 101,
   "id": "88b369af",
   "metadata": {},
   "outputs": [],
   "source": [
    "f=open('saurav.txt','w')"
   ]
  },
  {
   "cell_type": "code",
   "execution_count": 102,
   "id": "44e190fe",
   "metadata": {},
   "outputs": [
    {
     "data": {
      "text/plain": [
       "22"
      ]
     },
     "execution_count": 102,
     "metadata": {},
     "output_type": "execute_result"
    }
   ],
   "source": [
    "f.write(\"I support nupur sharma\")"
   ]
  },
  {
   "cell_type": "code",
   "execution_count": 103,
   "id": "6732c10a",
   "metadata": {},
   "outputs": [],
   "source": [
    "f.close()"
   ]
  },
  {
   "cell_type": "code",
   "execution_count": 104,
   "id": "d0235f4f",
   "metadata": {},
   "outputs": [],
   "source": [
    "with open('saurav.txt')as f:\n",
    "    file_show=f.read()"
   ]
  },
  {
   "cell_type": "code",
   "execution_count": 105,
   "id": "1d460a80",
   "metadata": {},
   "outputs": [
    {
     "data": {
      "text/plain": [
       "'I support nupur sharma'"
      ]
     },
     "execution_count": 105,
     "metadata": {},
     "output_type": "execute_result"
    }
   ],
   "source": [
    "file_show"
   ]
  },
  {
   "cell_type": "code",
   "execution_count": 106,
   "id": "7abefde6",
   "metadata": {},
   "outputs": [],
   "source": [
    "# Exception Handling\n",
    "#   \n",
    "#   while True:\n",
    "#   \n",
    "#   ... try:\n",
    "#   \n",
    "#   ... x = int(input(\"Please enter a number: \"))\n",
    "#   \n",
    "#   ... break\n",
    "#   \n",
    "#   ... except ValueError:\n",
    "#   \n",
    "#   ... print(\"Oops! That was no valid number. Try again...\")\n",
    "#   \n",
    "#   "
   ]
  },
  {
   "cell_type": "code",
   "execution_count": 108,
   "id": "3c918413",
   "metadata": {},
   "outputs": [
    {
     "name": "stdout",
     "output_type": "stream",
     "text": [
      "Enter an Integer Buddy 25\n"
     ]
    }
   ],
   "source": [
    "while True:\n",
    "    try:\n",
    "        x=int(input(\"Enter an Integer Buddy \"))\n",
    "        break\n",
    "    except:\n",
    "        print(\"Hey Bro! You are not entering a integer\")"
   ]
  },
  {
   "cell_type": "code",
   "execution_count": 109,
   "id": "d1975585",
   "metadata": {},
   "outputs": [],
   "source": [
    "#   import math\n",
    "#   math.cos(math.pi / 4)   \n",
    "#   math.log(1024, 2)"
   ]
  },
  {
   "cell_type": "code",
   "execution_count": 110,
   "id": "65d551db",
   "metadata": {},
   "outputs": [],
   "source": [
    "import math"
   ]
  },
  {
   "cell_type": "code",
   "execution_count": 118,
   "id": "6de3dea1",
   "metadata": {},
   "outputs": [
    {
     "data": {
      "text/plain": [
       "0.9999999999999999"
      ]
     },
     "execution_count": 118,
     "metadata": {},
     "output_type": "execute_result"
    }
   ],
   "source": [
    "math.tan(math.pi/4)"
   ]
  },
  {
   "cell_type": "code",
   "execution_count": 119,
   "id": "86c8795a",
   "metadata": {},
   "outputs": [
    {
     "data": {
      "text/plain": [
       "10.0"
      ]
     },
     "execution_count": 119,
     "metadata": {},
     "output_type": "execute_result"
    }
   ],
   "source": [
    "math.log(1024,2)"
   ]
  },
  {
   "cell_type": "code",
   "execution_count": 120,
   "id": "4513a720",
   "metadata": {},
   "outputs": [],
   "source": [
    "#import statistics\n",
    "#   \n",
    "#    data = [2.75, 1.75, 1.25, 0.25, 0.5, 1.25, 3.5]\n",
    "#   \n",
    "#   statistics.mean(data)\n",
    "#   \n",
    "#   statistics.median(data)"
   ]
  },
  {
   "cell_type": "code",
   "execution_count": 121,
   "id": "52f866a3",
   "metadata": {},
   "outputs": [],
   "source": [
    "import statistics"
   ]
  },
  {
   "cell_type": "code",
   "execution_count": 122,
   "id": "97b1ef8a",
   "metadata": {},
   "outputs": [],
   "source": [
    "data = [2.75, 1.75, 1.25, 0.25, 0.5, 1.25, 3.5]"
   ]
  },
  {
   "cell_type": "code",
   "execution_count": 123,
   "id": "f7f65c53",
   "metadata": {},
   "outputs": [
    {
     "data": {
      "text/plain": [
       "1.6071428571428572"
      ]
     },
     "execution_count": 123,
     "metadata": {},
     "output_type": "execute_result"
    }
   ],
   "source": [
    "statistics.mean(data)"
   ]
  },
  {
   "cell_type": "code",
   "execution_count": 124,
   "id": "0aea81d2",
   "metadata": {},
   "outputs": [
    {
     "data": {
      "text/plain": [
       "1.25"
      ]
     },
     "execution_count": 124,
     "metadata": {},
     "output_type": "execute_result"
    }
   ],
   "source": [
    "statistics.median(data)"
   ]
  },
  {
   "cell_type": "code",
   "execution_count": 125,
   "id": "e9b99338",
   "metadata": {},
   "outputs": [
    {
     "data": {
      "text/plain": [
       "1.25"
      ]
     },
     "execution_count": 125,
     "metadata": {},
     "output_type": "execute_result"
    }
   ],
   "source": [
    "statistics.mode(data)"
   ]
  },
  {
   "cell_type": "code",
   "execution_count": 126,
   "id": "6f0dfb5d",
   "metadata": {},
   "outputs": [],
   "source": [
    "#Task:\n",
    "#   \n",
    "#   write a function to append the numbers 1 to 8 in a list using for loop inside it.\n",
    "#   \n",
    "#   Soln:\n",
    "#   \n",
    "#   def f1():\n",
    "#   \n",
    "#       s=[]\n",
    "#   \n",
    "#       for i in range(1,8):\n",
    "#   \n",
    "#           s.append(i)\n",
    "#   \n",
    "#       print(s)\n",
    "#   \n",
    "#   f1()"
   ]
  },
  {
   "cell_type": "code",
   "execution_count": 130,
   "id": "22575cdb",
   "metadata": {},
   "outputs": [],
   "source": [
    "def num():\n",
    "    s=[]\n",
    "    for i in range(1,9):\n",
    "        s.append(i)\n",
    "    print(s)"
   ]
  },
  {
   "cell_type": "code",
   "execution_count": 131,
   "id": "d6163c8b",
   "metadata": {},
   "outputs": [
    {
     "name": "stdout",
     "output_type": "stream",
     "text": [
      "[1, 2, 3, 4, 5, 6, 7, 8]\n"
     ]
    }
   ],
   "source": [
    "num()"
   ]
  },
  {
   "cell_type": "code",
   "execution_count": 132,
   "id": "9f99e6e4",
   "metadata": {},
   "outputs": [],
   "source": [
    "# Task:\n",
    "#   \n",
    "#   Write a parametric function to pass user input values and find simple interest.\n",
    "#   \n",
    "#   def si(p,r,t):\n",
    "#   \n",
    "#       sip=p*r*t\n",
    "#   \n",
    "#       return sip\n",
    "#   \n",
    "#   p=int(input(\"enter value\"))\n",
    "#   \n",
    "#   r=int(input(\"enter value\"))\n",
    "#   \n",
    "#   t=int(input(\"enter value\"))\n",
    "#   \n",
    "#   si(p,r,t)"
   ]
  },
  {
   "cell_type": "code",
   "execution_count": 135,
   "id": "a1a963c0",
   "metadata": {},
   "outputs": [
    {
     "name": "stdout",
     "output_type": "stream",
     "text": [
      "inter number200\n",
      "enter numbet100\n",
      "enter number500\n"
     ]
    },
    {
     "data": {
      "text/plain": [
       "10000000"
      ]
     },
     "execution_count": 135,
     "metadata": {},
     "output_type": "execute_result"
    }
   ],
   "source": [
    "def si(p,r,t):\n",
    "    sip=p*r*t\n",
    "    return sip\n",
    "p=int(input(\"inter number\"))\n",
    "r=int(input(\"enter numbet\"))\n",
    "t=int(input(\"enter number\"))\n",
    "si(p,r,t)"
   ]
  },
  {
   "cell_type": "code",
   "execution_count": 136,
   "id": "8e806bc1",
   "metadata": {},
   "outputs": [],
   "source": [
    "#   Task:\n",
    "#   \n",
    "#   Write a function to take user input and append the data in a list.\n",
    "#   \n",
    "#   def s2():\n",
    "#   \n",
    "#       s=[]\n",
    "#   \n",
    "#       for i in range(1,5):\n",
    "#   \n",
    "#           p=input(\"enter val\")\n",
    "#   \n",
    "#           s.append(p)\n",
    "#   \n",
    "#       print(s)\n",
    "#   \n",
    "#   s2()\n",
    "\n"
   ]
  },
  {
   "cell_type": "code",
   "execution_count": 4,
   "id": "1a79fb4d",
   "metadata": {},
   "outputs": [],
   "source": [
    "def makelist():\n",
    "    s=[]\n",
    "    for i in range(2,7):\n",
    "        p=input(\"Enter a value  \")\n",
    "        s.append(p)\n",
    "    print(s)    \n",
    "        \n",
    "    "
   ]
  },
  {
   "cell_type": "code",
   "execution_count": 5,
   "id": "4b91c29d",
   "metadata": {},
   "outputs": [
    {
     "name": "stdout",
     "output_type": "stream",
     "text": [
      "Enter a value  1\n",
      "Enter a value  2\n",
      "Enter a value  3\n",
      "Enter a value  4\n",
      "Enter a value  5\n",
      "['1', '2', '3', '4', '5']\n"
     ]
    }
   ],
   "source": [
    "makelist()"
   ]
  },
  {
   "cell_type": "code",
   "execution_count": null,
   "id": "bf679068",
   "metadata": {},
   "outputs": [],
   "source": [
    "#Date-05 july 2022\n",
    "#Time-19:23"
   ]
  }
 ],
 "metadata": {
  "kernelspec": {
   "display_name": "Python 3 (ipykernel)",
   "language": "python",
   "name": "python3"
  },
  "language_info": {
   "codemirror_mode": {
    "name": "ipython",
    "version": 3
   },
   "file_extension": ".py",
   "mimetype": "text/x-python",
   "name": "python",
   "nbconvert_exporter": "python",
   "pygments_lexer": "ipython3",
   "version": "3.9.12"
  }
 },
 "nbformat": 4,
 "nbformat_minor": 5
}
